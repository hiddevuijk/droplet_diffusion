{
 "cells": [
  {
   "cell_type": "code",
   "execution_count": 2,
   "id": "9f13b49d",
   "metadata": {},
   "outputs": [],
   "source": [
    "import numpy as np\n",
    "import matplotlib.pyplot as plt\n",
    "import matplotlib.animation as animation\n",
    "from sys import exit\n"
   ]
  },
  {
   "cell_type": "code",
   "execution_count": 44,
   "id": "58779128",
   "metadata": {},
   "outputs": [],
   "source": [
    "timax = 200\n",
    "c = np.loadtxt(\"data/c_0.dat\").T\n",
    "drops = np.loadtxt(\"data/drops_0.dat\")\n",
    "\n",
    "Lx = 50\n",
    "Ly = 25\n",
    "Nx = 200\n",
    "Ny = 100\n",
    "\n",
    "dx = Lx / Nx\n",
    "dy = Ly / Ny\n",
    "aspect = dy / dx\n",
    "\n",
    "cmax = 0.0\n",
    "cmin = 1.0\n",
    "for ti in range(timax):\n",
    "        \n",
    "    c = np.loadtxt(\"data/c_\" + str( ti) + \".dat\").T\n",
    "\n",
    "    m = np.min(c)\n",
    "    if m < cmin:\n",
    "        cmin = m\n",
    "    m = np.max(c)\n",
    "    if m > cmax:\n",
    "        cmax = m\n"
   ]
  },
  {
   "cell_type": "code",
   "execution_count": 45,
   "id": "e3a75411",
   "metadata": {},
   "outputs": [
    {
     "name": "stdout",
     "output_type": "stream",
     "text": [
      "0\n",
      "0\n",
      "50\n",
      "100\n",
      "150\n",
      "0\n"
     ]
    },
    {
     "data": {
      "image/png": "[encoded data removed]",
      "text/plain": [
       "<Figure size 640x480 with 3 Axes>"
      ]
     },
     "metadata": {},
     "output_type": "display_data"
    }
   ],
   "source": [
    "\n",
    "\n",
    "fig = plt.figure()\n",
    "\n",
    "ax1  = fig.add_axes([0.1, 0.075, 0.85, 0.3])\n",
    "ax0  = fig.add_axes([0.1, 0.475, 0.85, 0.3])\n",
    "axcb = fig.add_axes([0.1, 0.875, 0.85, 0.05])\n",
    "\n",
    "\n",
    "ax = ax0\n",
    "im = ax.imshow(c, vmin= cmin, vmax=cmax, interpolation='none', origin='lower')\n",
    "ax.set_title(\"concentration\")\n",
    "fig.colorbar(im, cax=axcb, orientation='horizontal')\n",
    "\n",
    "\n",
    "ax.set_aspect(aspect)\n",
    "\n",
    "ax = ax1\n",
    "ax.set_title(\"Droplets\")\n",
    "\n",
    "ax.set_xlim([0,Lx])\n",
    "ax.set_ylim([0,Ly])\n",
    "ax.set_aspect(1)\n",
    "\n",
    "\n",
    "def init():\n",
    "    return update_frame(0)\n",
    "\n",
    "def update_frame(ti):\n",
    "    if ti % 50 == 0: print(ti)\n",
    "        \n",
    "    c = np.loadtxt(\"data/c_\" + str( ti) + \".dat\").T\n",
    "    drops = np.loadtxt(\"data/drops_\" + str(ti) + \".dat\")\n",
    "    \n",
    "    im.set_data(c)\n",
    "    #fig.colorbar(im, cax=axcb, orientation='horizontal')\n",
    "\n",
    "    ax = ax1\n",
    "    ax.clear()\n",
    "    ax.set_xlim([0,Lx])\n",
    "    ax.set_ylim([0,Ly])\n",
    "    ax.set_aspect(1)\n",
    "    \n",
    "    for i in range(drops.shape[0]):\n",
    "        x = drops[i][0]\n",
    "        y = drops[i][1]\n",
    "        R = drops[i][2]\n",
    "\n",
    "        if R > 0:\n",
    "            #print(x,y,R)\n",
    "            circle = plt.Circle((x, y), R) \n",
    "            circle.set_alpha(0.3) \n",
    "            ax.add_artist(circle)\n",
    "    return im,\n",
    "\n",
    "anim = animation.FuncAnimation(fig, update_frame, init_func=init, frames=timax)\n",
    "anim.save(\"droplets_movie2.mp4\")\n",
    "#plt.show()#\n",
    "\n",
    "\n",
    "\n"
   ]
  },
  {
   "cell_type": "code",
   "execution_count": 4,
   "id": "c8b90679",
   "metadata": {},
   "outputs": [],
   "source": [
    "\n",
    "\n",
    "\n",
    "\n"
   ]
  },
  {
   "cell_type": "code",
   "execution_count": 5,
   "id": "57f0e6e7",
   "metadata": {},
   "outputs": [],
   "source": []
  },
  {
   "cell_type": "code",
   "execution_count": 9,
   "id": "f596d58f",
   "metadata": {},
   "outputs": [],
   "source": []
  },
  {
   "cell_type": "code",
   "execution_count": null,
   "id": "d3a76aaa",
   "metadata": {},
   "outputs": [],
   "source": []
  }
 ],
 "metadata": {
  "kernelspec": {
   "display_name": "Python 3 (ipykernel)",
   "language": "python",
   "name": "python3"
  },
  "language_info": {
   "codemirror_mode": {
    "name": "ipython",
    "version": 3
   },
   "file_extension": ".py",
   "mimetype": "text/x-python",
   "name": "python",
   "nbconvert_exporter": "python",
   "pygments_lexer": "ipython3",
   "version": "3.9.12"
  }
 },
 "nbformat": 4,
 "nbformat_minor": 5
}
